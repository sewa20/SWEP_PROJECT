{
 "cells": [
  {
   "cell_type": "code",
   "execution_count": 1,
   "metadata": {},
   "outputs": [
    {
     "name": "stdout",
     "output_type": "stream",
     "text": [
      "Your BMI is: 1.65\n",
      "Underweight\n"
     ]
    }
   ],
   "source": [
    "#ASSIGNMENT 1\n",
    "#Create a function that can calculate a BMI\n",
    "\n",
    "def BMI (weight, height):\n",
    "  return round((weight / height**2),2)\n",
    "weight = float(input(\"input your weight in kg: \"))\n",
    "height = float(input(\"input your height in meters: \"))\n",
    "result_BMI = BMI (weight, height)\n",
    "print(\"Your BMI is:\", result_BMI)\n",
    "if result_BMI < 18.5 :\n",
    "  print(\"Underweight\")\n",
    "elif result_BMI == 18.5 or result_BMI < 25 :\n",
    "  print(\"Healthy\")\n",
    "elif result_BMI == 25 or result_BMI < 30 :\n",
    "  print(\"Overweight\")\n",
    "elif result_BMI == 30 or result_BMI > 30 :\n",
    "  print(\"Obesity\")\n"
   ]
  }
 ],
 "metadata": {
  "kernelspec": {
   "display_name": "Python 3",
   "language": "python",
   "name": "python3"
  },
  "language_info": {
   "name": "python",
   "version": "3.9.13"
  }
 },
 "nbformat": 4,
 "nbformat_minor": 2
}
