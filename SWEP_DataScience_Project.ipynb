{
 "cells": [
  {
   "cell_type": "markdown",
   "id": "9728a36a",
   "metadata": {},
   "source": [
    "# NAME: ADEDEJI ADESEWA MARIAM\n",
    "\n",
    "## MATRIC NUMBER: EES/20/21/0024\n",
    "\n",
    "## DEPARTMENT: COMPUTER ENGINEERING\n",
    "\n",
    "## COURSE: FEG 390 (DATA SCIENCE SWEP PROJECT)\n",
    "\n",
    "## LEVEL: 300L"
   ]
  },
  {
   "cell_type": "markdown",
   "id": "ffb3d02d",
   "metadata": {},
   "source": [
    "#                                        PROJECT REPORT :\n",
    "\n",
    "### House rent prediction in different locations with the use of machine learning\n"
   ]
  },
  {
   "cell_type": "markdown",
   "id": "1af03431",
   "metadata": {},
   "source": [
    "# The goal of this project is to:\n",
    "\n",
    "### I.) Implement a machine learning model capable of predicting the house rent for different houses.\n",
    "\n",
    "### II.) Determine the essential features significantly needed to predict the house rent for different houses.\n",
    "\n",
    "## The procedures implemented to achieve the goals of this research are:\n",
    "\n",
    "### 1. Data collection \n",
    "\n",
    "### 2. Data cleaning and exploration\n",
    "\n",
    "### 3. Feature encoding\n",
    "\n",
    "### 4. Train-test split validation\n",
    "\n",
    "### 5. Feature scaling\n",
    "\n",
    "### 6. Modeling\n",
    "\n",
    "### 7. Model evaluation "
   ]
  },
  {
   "cell_type": "markdown",
   "id": "c31bd338",
   "metadata": {},
   "source": [
    "## pandas and numpy is a library for data manipulation and analysis.\n",
    "##The code below shows that we have imported pandas library and numpy library as 'pd'and 'np'."
   ]
  },
  {
   "cell_type": "code",
   "execution_count": 1,
   "id": "2028f09d",
   "metadata": {},
   "outputs": [],
   "source": [
    "import pandas as pd\n",
    "import numpy as np"
   ]
  },
  {
   "cell_type": "code",
   "execution_count": 2,
   "id": "21af4755",
   "metadata": {},
   "outputs": [],
   "source": [
    "import matplotlib.pyplot as plt\n",
    "%matplotlib inline"
   ]
  },
  {
   "cell_type": "markdown",
   "id": "932e495b",
   "metadata": {},
   "source": [
    "# Data collection and Data Cleaning."
   ]
  },
  {
   "cell_type": "code",
   "execution_count": 3,
   "id": "fb2bd93d",
   "metadata": {},
   "outputs": [],
   "source": [
    "#  Load the CSV file into a Df\n",
    "\n",
    "df = pd.read_csv('Aemf1.csv')"
   ]
  },
  {
   "cell_type": "code",
   "execution_count": 4,
   "id": "359385ce",
   "metadata": {},
   "outputs": [
    {
     "data": {
      "text/html": [
       "<div>\n",
       "<style scoped>\n",
       "    .dataframe tbody tr th:only-of-type {\n",
       "        vertical-align: middle;\n",
       "    }\n",
       "\n",
       "    .dataframe tbody tr th {\n",
       "        vertical-align: top;\n",
       "    }\n",
       "\n",
       "    .dataframe thead th {\n",
       "        text-align: right;\n",
       "    }\n",
       "</style>\n",
       "<table border=\"1\" class=\"dataframe\">\n",
       "  <thead>\n",
       "    <tr style=\"text-align: right;\">\n",
       "      <th></th>\n",
       "      <th>City</th>\n",
       "      <th>Price</th>\n",
       "      <th>Day</th>\n",
       "      <th>Room Type</th>\n",
       "      <th>Shared Room</th>\n",
       "      <th>Private Room</th>\n",
       "      <th>Person Capacity</th>\n",
       "      <th>Superhost</th>\n",
       "      <th>Multiple Rooms</th>\n",
       "      <th>Business</th>\n",
       "      <th>Cleanliness Rating</th>\n",
       "      <th>Guest Satisfaction</th>\n",
       "      <th>Bedrooms</th>\n",
       "      <th>City Center (km)</th>\n",
       "      <th>Metro Distance (km)</th>\n",
       "      <th>Attraction Index</th>\n",
       "      <th>Normalised Attraction Index</th>\n",
       "      <th>Restraunt Index</th>\n",
       "      <th>Normalised Restraunt Index</th>\n",
       "    </tr>\n",
       "  </thead>\n",
       "  <tbody>\n",
       "    <tr>\n",
       "      <th>0</th>\n",
       "      <td>Amsterdam</td>\n",
       "      <td>194.033698</td>\n",
       "      <td>Weekday</td>\n",
       "      <td>Private room</td>\n",
       "      <td>False</td>\n",
       "      <td>True</td>\n",
       "      <td>2.0</td>\n",
       "      <td>False</td>\n",
       "      <td>1</td>\n",
       "      <td>0</td>\n",
       "      <td>10.0</td>\n",
       "      <td>93.0</td>\n",
       "      <td>1</td>\n",
       "      <td>5.022964</td>\n",
       "      <td>2.539380</td>\n",
       "      <td>78.690379</td>\n",
       "      <td>4.166708</td>\n",
       "      <td>98.253896</td>\n",
       "      <td>6.846473</td>\n",
       "    </tr>\n",
       "    <tr>\n",
       "      <th>1</th>\n",
       "      <td>Amsterdam</td>\n",
       "      <td>344.245776</td>\n",
       "      <td>Weekday</td>\n",
       "      <td>Private room</td>\n",
       "      <td>False</td>\n",
       "      <td>True</td>\n",
       "      <td>4.0</td>\n",
       "      <td>False</td>\n",
       "      <td>0</td>\n",
       "      <td>0</td>\n",
       "      <td>8.0</td>\n",
       "      <td>85.0</td>\n",
       "      <td>1</td>\n",
       "      <td>0.488389</td>\n",
       "      <td>0.239404</td>\n",
       "      <td>631.176378</td>\n",
       "      <td>33.421209</td>\n",
       "      <td>837.280757</td>\n",
       "      <td>58.342928</td>\n",
       "    </tr>\n",
       "    <tr>\n",
       "      <th>2</th>\n",
       "      <td>Amsterdam</td>\n",
       "      <td>264.101422</td>\n",
       "      <td>Weekday</td>\n",
       "      <td>Private room</td>\n",
       "      <td>False</td>\n",
       "      <td>True</td>\n",
       "      <td>2.0</td>\n",
       "      <td>False</td>\n",
       "      <td>0</td>\n",
       "      <td>1</td>\n",
       "      <td>9.0</td>\n",
       "      <td>87.0</td>\n",
       "      <td>1</td>\n",
       "      <td>5.748312</td>\n",
       "      <td>3.651621</td>\n",
       "      <td>75.275877</td>\n",
       "      <td>3.985908</td>\n",
       "      <td>95.386955</td>\n",
       "      <td>6.646700</td>\n",
       "    </tr>\n",
       "    <tr>\n",
       "      <th>3</th>\n",
       "      <td>Amsterdam</td>\n",
       "      <td>433.529398</td>\n",
       "      <td>Weekday</td>\n",
       "      <td>Private room</td>\n",
       "      <td>False</td>\n",
       "      <td>True</td>\n",
       "      <td>4.0</td>\n",
       "      <td>False</td>\n",
       "      <td>0</td>\n",
       "      <td>1</td>\n",
       "      <td>9.0</td>\n",
       "      <td>90.0</td>\n",
       "      <td>2</td>\n",
       "      <td>0.384862</td>\n",
       "      <td>0.439876</td>\n",
       "      <td>493.272534</td>\n",
       "      <td>26.119108</td>\n",
       "      <td>875.033098</td>\n",
       "      <td>60.973565</td>\n",
       "    </tr>\n",
       "    <tr>\n",
       "      <th>4</th>\n",
       "      <td>Amsterdam</td>\n",
       "      <td>485.552926</td>\n",
       "      <td>Weekday</td>\n",
       "      <td>Private room</td>\n",
       "      <td>False</td>\n",
       "      <td>True</td>\n",
       "      <td>2.0</td>\n",
       "      <td>True</td>\n",
       "      <td>0</td>\n",
       "      <td>0</td>\n",
       "      <td>10.0</td>\n",
       "      <td>98.0</td>\n",
       "      <td>1</td>\n",
       "      <td>0.544738</td>\n",
       "      <td>0.318693</td>\n",
       "      <td>552.830324</td>\n",
       "      <td>29.272733</td>\n",
       "      <td>815.305740</td>\n",
       "      <td>56.811677</td>\n",
       "    </tr>\n",
       "  </tbody>\n",
       "</table>\n",
       "</div>"
      ],
      "text/plain": [
       "        City       Price      Day     Room Type  Shared Room  Private Room  \\\n",
       "0  Amsterdam  194.033698  Weekday  Private room        False          True   \n",
       "1  Amsterdam  344.245776  Weekday  Private room        False          True   \n",
       "2  Amsterdam  264.101422  Weekday  Private room        False          True   \n",
       "3  Amsterdam  433.529398  Weekday  Private room        False          True   \n",
       "4  Amsterdam  485.552926  Weekday  Private room        False          True   \n",
       "\n",
       "   Person Capacity  Superhost  Multiple Rooms  Business  Cleanliness Rating  \\\n",
       "0              2.0      False               1         0                10.0   \n",
       "1              4.0      False               0         0                 8.0   \n",
       "2              2.0      False               0         1                 9.0   \n",
       "3              4.0      False               0         1                 9.0   \n",
       "4              2.0       True               0         0                10.0   \n",
       "\n",
       "   Guest Satisfaction  Bedrooms  City Center (km)  Metro Distance (km)  \\\n",
       "0                93.0         1          5.022964             2.539380   \n",
       "1                85.0         1          0.488389             0.239404   \n",
       "2                87.0         1          5.748312             3.651621   \n",
       "3                90.0         2          0.384862             0.439876   \n",
       "4                98.0         1          0.544738             0.318693   \n",
       "\n",
       "   Attraction Index  Normalised Attraction Index  Restraunt Index  \\\n",
       "0         78.690379                     4.166708        98.253896   \n",
       "1        631.176378                    33.421209       837.280757   \n",
       "2         75.275877                     3.985908        95.386955   \n",
       "3        493.272534                    26.119108       875.033098   \n",
       "4        552.830324                    29.272733       815.305740   \n",
       "\n",
       "   Normalised Restraunt Index  \n",
       "0                    6.846473  \n",
       "1                   58.342928  \n",
       "2                    6.646700  \n",
       "3                   60.973565  \n",
       "4                   56.811677  "
      ]
     },
     "execution_count": 4,
     "metadata": {},
     "output_type": "execute_result"
    }
   ],
   "source": [
    "# The below code calls the top 5 data in the csv file\n",
    "\n",
    "df.head()"
   ]
  },
  {
   "cell_type": "code",
   "execution_count": 5,
   "id": "544d53e1",
   "metadata": {},
   "outputs": [
    {
     "data": {
      "text/plain": [
       "(41714, 19)"
      ]
     },
     "execution_count": 5,
     "metadata": {},
     "output_type": "execute_result"
    }
   ],
   "source": [
    "#The code below helps us check the shape of the data, the number of rows and columns\n",
    "\n",
    "df.shape"
   ]
  },
  {
   "cell_type": "markdown",
   "id": "30a05975",
   "metadata": {},
   "source": [
    "# Data cleaning and exploration.\n",
    "\n",
    "##### After appropriate checking, I discovered that the dataset is void of null and duplicate values. This shows that the dataset is\n",
    "##### clean from the onset."
   ]
  },
  {
   "cell_type": "code",
   "execution_count": 6,
   "id": "1e1c71d4",
   "metadata": {},
   "outputs": [
    {
     "data": {
      "text/html": [
       "<div>\n",
       "<style scoped>\n",
       "    .dataframe tbody tr th:only-of-type {\n",
       "        vertical-align: middle;\n",
       "    }\n",
       "\n",
       "    .dataframe tbody tr th {\n",
       "        vertical-align: top;\n",
       "    }\n",
       "\n",
       "    .dataframe thead th {\n",
       "        text-align: right;\n",
       "    }\n",
       "</style>\n",
       "<table border=\"1\" class=\"dataframe\">\n",
       "  <thead>\n",
       "    <tr style=\"text-align: right;\">\n",
       "      <th></th>\n",
       "      <th>City</th>\n",
       "      <th>Price</th>\n",
       "      <th>Day</th>\n",
       "      <th>Room Type</th>\n",
       "      <th>Shared Room</th>\n",
       "      <th>Private Room</th>\n",
       "      <th>Person Capacity</th>\n",
       "      <th>Superhost</th>\n",
       "      <th>Multiple Rooms</th>\n",
       "      <th>Business</th>\n",
       "      <th>Cleanliness Rating</th>\n",
       "      <th>Guest Satisfaction</th>\n",
       "      <th>Bedrooms</th>\n",
       "      <th>City Center (km)</th>\n",
       "      <th>Metro Distance (km)</th>\n",
       "      <th>Attraction Index</th>\n",
       "      <th>Normalised Attraction Index</th>\n",
       "      <th>Restraunt Index</th>\n",
       "      <th>Normalised Restraunt Index</th>\n",
       "    </tr>\n",
       "  </thead>\n",
       "  <tbody>\n",
       "    <tr>\n",
       "      <th>0</th>\n",
       "      <td>False</td>\n",
       "      <td>False</td>\n",
       "      <td>False</td>\n",
       "      <td>False</td>\n",
       "      <td>False</td>\n",
       "      <td>False</td>\n",
       "      <td>False</td>\n",
       "      <td>False</td>\n",
       "      <td>False</td>\n",
       "      <td>False</td>\n",
       "      <td>False</td>\n",
       "      <td>False</td>\n",
       "      <td>False</td>\n",
       "      <td>False</td>\n",
       "      <td>False</td>\n",
       "      <td>False</td>\n",
       "      <td>False</td>\n",
       "      <td>False</td>\n",
       "      <td>False</td>\n",
       "    </tr>\n",
       "    <tr>\n",
       "      <th>1</th>\n",
       "      <td>False</td>\n",
       "      <td>False</td>\n",
       "      <td>False</td>\n",
       "      <td>False</td>\n",
       "      <td>False</td>\n",
       "      <td>False</td>\n",
       "      <td>False</td>\n",
       "      <td>False</td>\n",
       "      <td>False</td>\n",
       "      <td>False</td>\n",
       "      <td>False</td>\n",
       "      <td>False</td>\n",
       "      <td>False</td>\n",
       "      <td>False</td>\n",
       "      <td>False</td>\n",
       "      <td>False</td>\n",
       "      <td>False</td>\n",
       "      <td>False</td>\n",
       "      <td>False</td>\n",
       "    </tr>\n",
       "    <tr>\n",
       "      <th>2</th>\n",
       "      <td>False</td>\n",
       "      <td>False</td>\n",
       "      <td>False</td>\n",
       "      <td>False</td>\n",
       "      <td>False</td>\n",
       "      <td>False</td>\n",
       "      <td>False</td>\n",
       "      <td>False</td>\n",
       "      <td>False</td>\n",
       "      <td>False</td>\n",
       "      <td>False</td>\n",
       "      <td>False</td>\n",
       "      <td>False</td>\n",
       "      <td>False</td>\n",
       "      <td>False</td>\n",
       "      <td>False</td>\n",
       "      <td>False</td>\n",
       "      <td>False</td>\n",
       "      <td>False</td>\n",
       "    </tr>\n",
       "    <tr>\n",
       "      <th>3</th>\n",
       "      <td>False</td>\n",
       "      <td>False</td>\n",
       "      <td>False</td>\n",
       "      <td>False</td>\n",
       "      <td>False</td>\n",
       "      <td>False</td>\n",
       "      <td>False</td>\n",
       "      <td>False</td>\n",
       "      <td>False</td>\n",
       "      <td>False</td>\n",
       "      <td>False</td>\n",
       "      <td>False</td>\n",
       "      <td>False</td>\n",
       "      <td>False</td>\n",
       "      <td>False</td>\n",
       "      <td>False</td>\n",
       "      <td>False</td>\n",
       "      <td>False</td>\n",
       "      <td>False</td>\n",
       "    </tr>\n",
       "    <tr>\n",
       "      <th>4</th>\n",
       "      <td>False</td>\n",
       "      <td>False</td>\n",
       "      <td>False</td>\n",
       "      <td>False</td>\n",
       "      <td>False</td>\n",
       "      <td>False</td>\n",
       "      <td>False</td>\n",
       "      <td>False</td>\n",
       "      <td>False</td>\n",
       "      <td>False</td>\n",
       "      <td>False</td>\n",
       "      <td>False</td>\n",
       "      <td>False</td>\n",
       "      <td>False</td>\n",
       "      <td>False</td>\n",
       "      <td>False</td>\n",
       "      <td>False</td>\n",
       "      <td>False</td>\n",
       "      <td>False</td>\n",
       "    </tr>\n",
       "    <tr>\n",
       "      <th>...</th>\n",
       "      <td>...</td>\n",
       "      <td>...</td>\n",
       "      <td>...</td>\n",
       "      <td>...</td>\n",
       "      <td>...</td>\n",
       "      <td>...</td>\n",
       "      <td>...</td>\n",
       "      <td>...</td>\n",
       "      <td>...</td>\n",
       "      <td>...</td>\n",
       "      <td>...</td>\n",
       "      <td>...</td>\n",
       "      <td>...</td>\n",
       "      <td>...</td>\n",
       "      <td>...</td>\n",
       "      <td>...</td>\n",
       "      <td>...</td>\n",
       "      <td>...</td>\n",
       "      <td>...</td>\n",
       "    </tr>\n",
       "    <tr>\n",
       "      <th>41709</th>\n",
       "      <td>False</td>\n",
       "      <td>False</td>\n",
       "      <td>False</td>\n",
       "      <td>False</td>\n",
       "      <td>False</td>\n",
       "      <td>False</td>\n",
       "      <td>False</td>\n",
       "      <td>False</td>\n",
       "      <td>False</td>\n",
       "      <td>False</td>\n",
       "      <td>False</td>\n",
       "      <td>False</td>\n",
       "      <td>False</td>\n",
       "      <td>False</td>\n",
       "      <td>False</td>\n",
       "      <td>False</td>\n",
       "      <td>False</td>\n",
       "      <td>False</td>\n",
       "      <td>False</td>\n",
       "    </tr>\n",
       "    <tr>\n",
       "      <th>41710</th>\n",
       "      <td>False</td>\n",
       "      <td>False</td>\n",
       "      <td>False</td>\n",
       "      <td>False</td>\n",
       "      <td>False</td>\n",
       "      <td>False</td>\n",
       "      <td>False</td>\n",
       "      <td>False</td>\n",
       "      <td>False</td>\n",
       "      <td>False</td>\n",
       "      <td>False</td>\n",
       "      <td>False</td>\n",
       "      <td>False</td>\n",
       "      <td>False</td>\n",
       "      <td>False</td>\n",
       "      <td>False</td>\n",
       "      <td>False</td>\n",
       "      <td>False</td>\n",
       "      <td>False</td>\n",
       "    </tr>\n",
       "    <tr>\n",
       "      <th>41711</th>\n",
       "      <td>False</td>\n",
       "      <td>False</td>\n",
       "      <td>False</td>\n",
       "      <td>False</td>\n",
       "      <td>False</td>\n",
       "      <td>False</td>\n",
       "      <td>False</td>\n",
       "      <td>False</td>\n",
       "      <td>False</td>\n",
       "      <td>False</td>\n",
       "      <td>False</td>\n",
       "      <td>False</td>\n",
       "      <td>False</td>\n",
       "      <td>False</td>\n",
       "      <td>False</td>\n",
       "      <td>False</td>\n",
       "      <td>False</td>\n",
       "      <td>False</td>\n",
       "      <td>False</td>\n",
       "    </tr>\n",
       "    <tr>\n",
       "      <th>41712</th>\n",
       "      <td>False</td>\n",
       "      <td>False</td>\n",
       "      <td>False</td>\n",
       "      <td>False</td>\n",
       "      <td>False</td>\n",
       "      <td>False</td>\n",
       "      <td>False</td>\n",
       "      <td>False</td>\n",
       "      <td>False</td>\n",
       "      <td>False</td>\n",
       "      <td>False</td>\n",
       "      <td>False</td>\n",
       "      <td>False</td>\n",
       "      <td>False</td>\n",
       "      <td>False</td>\n",
       "      <td>False</td>\n",
       "      <td>False</td>\n",
       "      <td>False</td>\n",
       "      <td>False</td>\n",
       "    </tr>\n",
       "    <tr>\n",
       "      <th>41713</th>\n",
       "      <td>False</td>\n",
       "      <td>False</td>\n",
       "      <td>False</td>\n",
       "      <td>False</td>\n",
       "      <td>False</td>\n",
       "      <td>False</td>\n",
       "      <td>False</td>\n",
       "      <td>False</td>\n",
       "      <td>False</td>\n",
       "      <td>False</td>\n",
       "      <td>False</td>\n",
       "      <td>False</td>\n",
       "      <td>False</td>\n",
       "      <td>False</td>\n",
       "      <td>False</td>\n",
       "      <td>False</td>\n",
       "      <td>False</td>\n",
       "      <td>False</td>\n",
       "      <td>False</td>\n",
       "    </tr>\n",
       "  </tbody>\n",
       "</table>\n",
       "<p>41714 rows × 19 columns</p>\n",
       "</div>"
      ],
      "text/plain": [
       "        City  Price    Day  Room Type  Shared Room  Private Room  \\\n",
       "0      False  False  False      False        False         False   \n",
       "1      False  False  False      False        False         False   \n",
       "2      False  False  False      False        False         False   \n",
       "3      False  False  False      False        False         False   \n",
       "4      False  False  False      False        False         False   \n",
       "...      ...    ...    ...        ...          ...           ...   \n",
       "41709  False  False  False      False        False         False   \n",
       "41710  False  False  False      False        False         False   \n",
       "41711  False  False  False      False        False         False   \n",
       "41712  False  False  False      False        False         False   \n",
       "41713  False  False  False      False        False         False   \n",
       "\n",
       "       Person Capacity  Superhost  Multiple Rooms  Business  \\\n",
       "0                False      False           False     False   \n",
       "1                False      False           False     False   \n",
       "2                False      False           False     False   \n",
       "3                False      False           False     False   \n",
       "4                False      False           False     False   \n",
       "...                ...        ...             ...       ...   \n",
       "41709            False      False           False     False   \n",
       "41710            False      False           False     False   \n",
       "41711            False      False           False     False   \n",
       "41712            False      False           False     False   \n",
       "41713            False      False           False     False   \n",
       "\n",
       "       Cleanliness Rating  Guest Satisfaction  Bedrooms  City Center (km)  \\\n",
       "0                   False               False     False             False   \n",
       "1                   False               False     False             False   \n",
       "2                   False               False     False             False   \n",
       "3                   False               False     False             False   \n",
       "4                   False               False     False             False   \n",
       "...                   ...                 ...       ...               ...   \n",
       "41709               False               False     False             False   \n",
       "41710               False               False     False             False   \n",
       "41711               False               False     False             False   \n",
       "41712               False               False     False             False   \n",
       "41713               False               False     False             False   \n",
       "\n",
       "       Metro Distance (km)  Attraction Index  Normalised Attraction Index  \\\n",
       "0                    False             False                        False   \n",
       "1                    False             False                        False   \n",
       "2                    False             False                        False   \n",
       "3                    False             False                        False   \n",
       "4                    False             False                        False   \n",
       "...                    ...               ...                          ...   \n",
       "41709                False             False                        False   \n",
       "41710                False             False                        False   \n",
       "41711                False             False                        False   \n",
       "41712                False             False                        False   \n",
       "41713                False             False                        False   \n",
       "\n",
       "       Restraunt Index  Normalised Restraunt Index  \n",
       "0                False                       False  \n",
       "1                False                       False  \n",
       "2                False                       False  \n",
       "3                False                       False  \n",
       "4                False                       False  \n",
       "...                ...                         ...  \n",
       "41709            False                       False  \n",
       "41710            False                       False  \n",
       "41711            False                       False  \n",
       "41712            False                       False  \n",
       "41713            False                       False  \n",
       "\n",
       "[41714 rows x 19 columns]"
      ]
     },
     "execution_count": 6,
     "metadata": {},
     "output_type": "execute_result"
    }
   ],
   "source": [
    "# Check for missing values in the df\n",
    "\n",
    "df.isnull()"
   ]
  },
  {
   "cell_type": "code",
   "execution_count": 7,
   "id": "0109aaa2",
   "metadata": {},
   "outputs": [
    {
     "data": {
      "text/plain": [
       "City                           0\n",
       "Price                          0\n",
       "Day                            0\n",
       "Room Type                      0\n",
       "Shared Room                    0\n",
       "Private Room                   0\n",
       "Person Capacity                0\n",
       "Superhost                      0\n",
       "Multiple Rooms                 0\n",
       "Business                       0\n",
       "Cleanliness Rating             0\n",
       "Guest Satisfaction             0\n",
       "Bedrooms                       0\n",
       "City Center (km)               0\n",
       "Metro Distance (km)            0\n",
       "Attraction Index               0\n",
       "Normalised Attraction Index    0\n",
       "Restraunt Index                0\n",
       "Normalised Restraunt Index     0\n",
       "dtype: int64"
      ]
     },
     "execution_count": 7,
     "metadata": {},
     "output_type": "execute_result"
    }
   ],
   "source": [
    "# This code counts the number of missing values for each column in the df\n",
    "\n",
    "df.isnull().sum()"
   ]
  },
  {
   "cell_type": "code",
   "execution_count": 8,
   "id": "cd5e0989",
   "metadata": {},
   "outputs": [
    {
     "name": "stdout",
     "output_type": "stream",
     "text": [
      "<class 'pandas.core.frame.DataFrame'>\n",
      "RangeIndex: 41714 entries, 0 to 41713\n",
      "Data columns (total 19 columns):\n",
      " #   Column                       Non-Null Count  Dtype  \n",
      "---  ------                       --------------  -----  \n",
      " 0   City                         41714 non-null  object \n",
      " 1   Price                        41714 non-null  float64\n",
      " 2   Day                          41714 non-null  object \n",
      " 3   Room Type                    41714 non-null  object \n",
      " 4   Shared Room                  41714 non-null  bool   \n",
      " 5   Private Room                 41714 non-null  bool   \n",
      " 6   Person Capacity              41714 non-null  float64\n",
      " 7   Superhost                    41714 non-null  bool   \n",
      " 8   Multiple Rooms               41714 non-null  int64  \n",
      " 9   Business                     41714 non-null  int64  \n",
      " 10  Cleanliness Rating           41714 non-null  float64\n",
      " 11  Guest Satisfaction           41714 non-null  float64\n",
      " 12  Bedrooms                     41714 non-null  int64  \n",
      " 13  City Center (km)             41714 non-null  float64\n",
      " 14  Metro Distance (km)          41714 non-null  float64\n",
      " 15  Attraction Index             41714 non-null  float64\n",
      " 16  Normalised Attraction Index  41714 non-null  float64\n",
      " 17  Restraunt Index              41714 non-null  float64\n",
      " 18  Normalised Restraunt Index   41714 non-null  float64\n",
      "dtypes: bool(3), float64(10), int64(3), object(3)\n",
      "memory usage: 5.2+ MB\n"
     ]
    }
   ],
   "source": [
    "#This code shows the info about the data \n",
    "\n",
    "df.info()"
   ]
  },
  {
   "cell_type": "code",
   "execution_count": 9,
   "id": "a97efc21",
   "metadata": {
    "scrolled": true
   },
   "outputs": [
    {
     "data": {
      "text/plain": [
       "0"
      ]
     },
     "execution_count": 9,
     "metadata": {},
     "output_type": "execute_result"
    }
   ],
   "source": [
    "#This code sums up all duplicated values in all the columns \n",
    "df.duplicated().sum()"
   ]
  },
  {
   "cell_type": "markdown",
   "id": "5c913c68",
   "metadata": {},
   "source": [
    "#### This helps in converting categorical variables into numerical format suitable for machine learning"
   ]
  },
  {
   "cell_type": "code",
   "execution_count": 10,
   "id": "36efddea",
   "metadata": {},
   "outputs": [],
   "source": [
    "df = pd.get_dummies(data=df,columns=['City','Day','Room Type','Shared Room','Private Room','Superhost'],drop_first=True)"
   ]
  },
  {
   "cell_type": "code",
   "execution_count": 11,
   "id": "5f934628",
   "metadata": {},
   "outputs": [
    {
     "data": {
      "text/html": [
       "<div>\n",
       "<style scoped>\n",
       "    .dataframe tbody tr th:only-of-type {\n",
       "        vertical-align: middle;\n",
       "    }\n",
       "\n",
       "    .dataframe tbody tr th {\n",
       "        vertical-align: top;\n",
       "    }\n",
       "\n",
       "    .dataframe thead th {\n",
       "        text-align: right;\n",
       "    }\n",
       "</style>\n",
       "<table border=\"1\" class=\"dataframe\">\n",
       "  <thead>\n",
       "    <tr style=\"text-align: right;\">\n",
       "      <th></th>\n",
       "      <th>Price</th>\n",
       "      <th>Person Capacity</th>\n",
       "      <th>Multiple Rooms</th>\n",
       "      <th>Business</th>\n",
       "      <th>Cleanliness Rating</th>\n",
       "      <th>Guest Satisfaction</th>\n",
       "      <th>Bedrooms</th>\n",
       "      <th>City Center (km)</th>\n",
       "      <th>Metro Distance (km)</th>\n",
       "      <th>Attraction Index</th>\n",
       "      <th>...</th>\n",
       "      <th>City_Lisbon</th>\n",
       "      <th>City_Paris</th>\n",
       "      <th>City_Rome</th>\n",
       "      <th>City_Vienna</th>\n",
       "      <th>Day_Weekend</th>\n",
       "      <th>Room Type_Private room</th>\n",
       "      <th>Room Type_Shared room</th>\n",
       "      <th>Shared Room_True</th>\n",
       "      <th>Private Room_True</th>\n",
       "      <th>Superhost_True</th>\n",
       "    </tr>\n",
       "  </thead>\n",
       "  <tbody>\n",
       "    <tr>\n",
       "      <th>0</th>\n",
       "      <td>194.033698</td>\n",
       "      <td>2.0</td>\n",
       "      <td>1</td>\n",
       "      <td>0</td>\n",
       "      <td>10.0</td>\n",
       "      <td>93.0</td>\n",
       "      <td>1</td>\n",
       "      <td>5.022964</td>\n",
       "      <td>2.539380</td>\n",
       "      <td>78.690379</td>\n",
       "      <td>...</td>\n",
       "      <td>0</td>\n",
       "      <td>0</td>\n",
       "      <td>0</td>\n",
       "      <td>0</td>\n",
       "      <td>0</td>\n",
       "      <td>1</td>\n",
       "      <td>0</td>\n",
       "      <td>0</td>\n",
       "      <td>1</td>\n",
       "      <td>0</td>\n",
       "    </tr>\n",
       "    <tr>\n",
       "      <th>1</th>\n",
       "      <td>344.245776</td>\n",
       "      <td>4.0</td>\n",
       "      <td>0</td>\n",
       "      <td>0</td>\n",
       "      <td>8.0</td>\n",
       "      <td>85.0</td>\n",
       "      <td>1</td>\n",
       "      <td>0.488389</td>\n",
       "      <td>0.239404</td>\n",
       "      <td>631.176378</td>\n",
       "      <td>...</td>\n",
       "      <td>0</td>\n",
       "      <td>0</td>\n",
       "      <td>0</td>\n",
       "      <td>0</td>\n",
       "      <td>0</td>\n",
       "      <td>1</td>\n",
       "      <td>0</td>\n",
       "      <td>0</td>\n",
       "      <td>1</td>\n",
       "      <td>0</td>\n",
       "    </tr>\n",
       "    <tr>\n",
       "      <th>2</th>\n",
       "      <td>264.101422</td>\n",
       "      <td>2.0</td>\n",
       "      <td>0</td>\n",
       "      <td>1</td>\n",
       "      <td>9.0</td>\n",
       "      <td>87.0</td>\n",
       "      <td>1</td>\n",
       "      <td>5.748312</td>\n",
       "      <td>3.651621</td>\n",
       "      <td>75.275877</td>\n",
       "      <td>...</td>\n",
       "      <td>0</td>\n",
       "      <td>0</td>\n",
       "      <td>0</td>\n",
       "      <td>0</td>\n",
       "      <td>0</td>\n",
       "      <td>1</td>\n",
       "      <td>0</td>\n",
       "      <td>0</td>\n",
       "      <td>1</td>\n",
       "      <td>0</td>\n",
       "    </tr>\n",
       "    <tr>\n",
       "      <th>3</th>\n",
       "      <td>433.529398</td>\n",
       "      <td>4.0</td>\n",
       "      <td>0</td>\n",
       "      <td>1</td>\n",
       "      <td>9.0</td>\n",
       "      <td>90.0</td>\n",
       "      <td>2</td>\n",
       "      <td>0.384862</td>\n",
       "      <td>0.439876</td>\n",
       "      <td>493.272534</td>\n",
       "      <td>...</td>\n",
       "      <td>0</td>\n",
       "      <td>0</td>\n",
       "      <td>0</td>\n",
       "      <td>0</td>\n",
       "      <td>0</td>\n",
       "      <td>1</td>\n",
       "      <td>0</td>\n",
       "      <td>0</td>\n",
       "      <td>1</td>\n",
       "      <td>0</td>\n",
       "    </tr>\n",
       "    <tr>\n",
       "      <th>4</th>\n",
       "      <td>485.552926</td>\n",
       "      <td>2.0</td>\n",
       "      <td>0</td>\n",
       "      <td>0</td>\n",
       "      <td>10.0</td>\n",
       "      <td>98.0</td>\n",
       "      <td>1</td>\n",
       "      <td>0.544738</td>\n",
       "      <td>0.318693</td>\n",
       "      <td>552.830324</td>\n",
       "      <td>...</td>\n",
       "      <td>0</td>\n",
       "      <td>0</td>\n",
       "      <td>0</td>\n",
       "      <td>0</td>\n",
       "      <td>0</td>\n",
       "      <td>1</td>\n",
       "      <td>0</td>\n",
       "      <td>0</td>\n",
       "      <td>1</td>\n",
       "      <td>1</td>\n",
       "    </tr>\n",
       "  </tbody>\n",
       "</table>\n",
       "<p>5 rows × 27 columns</p>\n",
       "</div>"
      ],
      "text/plain": [
       "        Price  Person Capacity  Multiple Rooms  Business  Cleanliness Rating  \\\n",
       "0  194.033698              2.0               1         0                10.0   \n",
       "1  344.245776              4.0               0         0                 8.0   \n",
       "2  264.101422              2.0               0         1                 9.0   \n",
       "3  433.529398              4.0               0         1                 9.0   \n",
       "4  485.552926              2.0               0         0                10.0   \n",
       "\n",
       "   Guest Satisfaction  Bedrooms  City Center (km)  Metro Distance (km)  \\\n",
       "0                93.0         1          5.022964             2.539380   \n",
       "1                85.0         1          0.488389             0.239404   \n",
       "2                87.0         1          5.748312             3.651621   \n",
       "3                90.0         2          0.384862             0.439876   \n",
       "4                98.0         1          0.544738             0.318693   \n",
       "\n",
       "   Attraction Index  ...  City_Lisbon  City_Paris  City_Rome  City_Vienna  \\\n",
       "0         78.690379  ...            0           0          0            0   \n",
       "1        631.176378  ...            0           0          0            0   \n",
       "2         75.275877  ...            0           0          0            0   \n",
       "3        493.272534  ...            0           0          0            0   \n",
       "4        552.830324  ...            0           0          0            0   \n",
       "\n",
       "   Day_Weekend  Room Type_Private room  Room Type_Shared room  \\\n",
       "0            0                       1                      0   \n",
       "1            0                       1                      0   \n",
       "2            0                       1                      0   \n",
       "3            0                       1                      0   \n",
       "4            0                       1                      0   \n",
       "\n",
       "   Shared Room_True  Private Room_True  Superhost_True  \n",
       "0                 0                  1               0  \n",
       "1                 0                  1               0  \n",
       "2                 0                  1               0  \n",
       "3                 0                  1               0  \n",
       "4                 0                  1               1  \n",
       "\n",
       "[5 rows x 27 columns]"
      ]
     },
     "execution_count": 11,
     "metadata": {},
     "output_type": "execute_result"
    }
   ],
   "source": [
    "df.head()"
   ]
  },
  {
   "cell_type": "code",
   "execution_count": 12,
   "id": "22eca5cc",
   "metadata": {},
   "outputs": [],
   "source": [
    "# This code imports the MinMaxScaler from scikit-learn for feature scaling\n",
    "\n",
    "from sklearn.preprocessing import MinMaxScaler"
   ]
  },
  {
   "cell_type": "code",
   "execution_count": 13,
   "id": "2b5c2c1e",
   "metadata": {
    "scrolled": true
   },
   "outputs": [
    {
     "data": {
      "text/plain": [
       "Index(['Price', 'Person Capacity', 'Multiple Rooms', 'Business',\n",
       "       'Cleanliness Rating', 'Guest Satisfaction', 'Bedrooms',\n",
       "       'City Center (km)', 'Metro Distance (km)', 'Attraction Index',\n",
       "       'Normalised Attraction Index', 'Restraunt Index',\n",
       "       'Normalised Restraunt Index', 'City_Athens', 'City_Barcelona',\n",
       "       'City_Berlin', 'City_Budapest', 'City_Lisbon', 'City_Paris',\n",
       "       'City_Rome', 'City_Vienna', 'Day_Weekend', 'Room Type_Private room',\n",
       "       'Room Type_Shared room', 'Shared Room_True', 'Private Room_True',\n",
       "       'Superhost_True'],\n",
       "      dtype='object')"
      ]
     },
     "execution_count": 13,
     "metadata": {},
     "output_type": "execute_result"
    }
   ],
   "source": [
    "# This code displays the column names of the df\n",
    "df.columns"
   ]
  },
  {
   "cell_type": "code",
   "execution_count": 14,
   "id": "2dd2964c",
   "metadata": {},
   "outputs": [],
   "source": [
    "# This code saves the column names into the variable 'col'\n",
    "\n",
    "col = df.columns"
   ]
  },
  {
   "cell_type": "code",
   "execution_count": 15,
   "id": "767c8d78",
   "metadata": {},
   "outputs": [],
   "source": [
    "#  This code creates an instance of the MinMaxScaler for feature scaling\n",
    "\n",
    "Scaler = MinMaxScaler()"
   ]
  },
  {
   "cell_type": "code",
   "execution_count": 16,
   "id": "1d932898",
   "metadata": {
    "scrolled": true
   },
   "outputs": [],
   "source": [
    "# This code fits and transforms the df using the MinMaxScaler\n",
    "# This code scales the numerical features in the df to a specified range (commonly between 0 and 1)\n",
    "\n",
    "scaled_df = Scaler.fit_transform(df)\n",
    "Scaler = Scaler.fit_transform(df)"
   ]
  },
  {
   "cell_type": "code",
   "execution_count": 17,
   "id": "fbddb5f8",
   "metadata": {},
   "outputs": [
    {
     "data": {
      "text/plain": [
       "array([[0.00860338, 0.        , 1.        , ..., 0.        , 1.        ,\n",
       "        0.        ],\n",
       "       [0.01671827, 0.5       , 0.        , ..., 0.        , 1.        ,\n",
       "        0.        ],\n",
       "       [0.01238864, 0.        , 0.        , ..., 0.        , 1.        ,\n",
       "        0.        ],\n",
       "       ...,\n",
       "       [0.03254283, 0.        , 0.        , ..., 0.        , 0.        ,\n",
       "        0.        ],\n",
       "       [0.01438494, 0.        , 0.        , ..., 0.        , 1.        ,\n",
       "        0.        ],\n",
       "       [0.00531862, 0.5       , 1.        , ..., 0.        , 1.        ,\n",
       "        1.        ]])"
      ]
     },
     "execution_count": 17,
     "metadata": {},
     "output_type": "execute_result"
    }
   ],
   "source": [
    "#displaying the array \n",
    "\n",
    "Scaler"
   ]
  },
  {
   "cell_type": "markdown",
   "id": "3e84c5a6",
   "metadata": {},
   "source": [
    "# Using the train_test_split function from sklearn.model_selection to split the DataFrame into features (X) and the target variable (y) in other to split the data into TRAINING DATA AND TESTING DATA"
   ]
  },
  {
   "cell_type": "code",
   "execution_count": 18,
   "id": "a4d43b3f",
   "metadata": {},
   "outputs": [],
   "source": [
    "## Split the DataFrame into features (X) and the target variable (y)\n",
    "# Features (X) exclude the 'Price' column, which is set as the target variable (y)\n",
    "\n",
    "\n",
    "from sklearn.model_selection import train_test_split\n",
    "X = df.drop(['Price'],axis = 1)\n",
    "y = df['Price']"
   ]
  },
  {
   "cell_type": "code",
   "execution_count": 19,
   "id": "aaa92c54",
   "metadata": {},
   "outputs": [],
   "source": [
    "# Split the dataset into training and testing sets using train_test_split\n",
    "# X_train and y_train are the features and target variable for training\n",
    "# X_test and y_test are the features and target variable for testing\n",
    "# The test_size parameter specifies the proportion of the dataset to include in the test split (here, 20%)\n",
    "# The random_state parameter ensures reproducibility by fixing the random seed\n",
    "\n",
    "X_train,X_test,y_train,y_test=train_test_split(X,y,test_size=0.2,random_state=36)"
   ]
  },
  {
   "cell_type": "markdown",
   "id": "0db2bd24",
   "metadata": {},
   "source": [
    "# FOR REGRESSION MODEL EVALUATION METRICS\n",
    "## WE CAN USE THREE DIFFERENT MODELS:\n",
    "### 1 ) R^2 (Pronounced r-squared) or coefficient of determination.\n",
    "### 2) Mean absolute error which is also known as (MAE)\n",
    "### 3) Mean squared error which is also known as (MSE)\n",
    "\n",
    "**R^2**\n",
    "\n",
    "What R-squared does: compares your model predictions to the mean of the targets. Values can range from negative infinity (a very poor model) to 1. For example, if all your model does is predict the mean of the target, it's a R^2 value would be 0. And if your model prefectly predicts a range of numbers its R^2 value would be 1."
   ]
  },
  {
   "cell_type": "markdown",
   "id": "00e1fb5a",
   "metadata": {},
   "source": [
    "## Random Forest Regressor"
   ]
  },
  {
   "cell_type": "code",
   "execution_count": 20,
   "id": "382c486f",
   "metadata": {},
   "outputs": [
    {
     "data": {
      "text/plain": [
       "RandomForestRegressor()"
      ]
     },
     "execution_count": 20,
     "metadata": {},
     "output_type": "execute_result"
    }
   ],
   "source": [
    "\n",
    "\n",
    "from sklearn.ensemble import RandomForestRegressor \n",
    "\n",
    "np.random.seed(36)\n",
    "\n",
    "x = df.drop(\"Price\", axis=1)\n",
    "\n",
    "y = df[\"Price\"]\n",
    "\n",
    "X_train,X_test,y_train,y_test=train_test_split(X,y,test_size=0.2,random_state=42)\n",
    "\n",
    "model = RandomForestRegressor(n_estimators = 100)\n",
    "model.fit(X_train,y_train)"
   ]
  },
  {
   "cell_type": "code",
   "execution_count": 21,
   "id": "04788fc9",
   "metadata": {},
   "outputs": [
    {
     "data": {
      "text/plain": [
       "0.39426385894675076"
      ]
     },
     "execution_count": 21,
     "metadata": {},
     "output_type": "execute_result"
    }
   ],
   "source": [
    "model.score(X_test, y_test)"
   ]
  },
  {
   "cell_type": "code",
   "execution_count": 22,
   "id": "af0d414a",
   "metadata": {},
   "outputs": [],
   "source": [
    "from sklearn.metrics import r2_score\n",
    "# fill an array with y__test mean\n",
    "y_test_mean = np.full(len(y_test),y_test.mean())"
   ]
  },
  {
   "cell_type": "code",
   "execution_count": 23,
   "id": "150848e2",
   "metadata": {},
   "outputs": [
    {
     "data": {
      "text/plain": [
       "259.09331477597027"
      ]
     },
     "execution_count": 23,
     "metadata": {},
     "output_type": "execute_result"
    }
   ],
   "source": [
    "y_test.mean()"
   ]
  },
  {
   "cell_type": "code",
   "execution_count": 24,
   "id": "f2d63bfc",
   "metadata": {},
   "outputs": [
    {
     "data": {
      "text/plain": [
       "0.0"
      ]
     },
     "execution_count": 24,
     "metadata": {},
     "output_type": "execute_result"
    }
   ],
   "source": [
    "r2_score(y_test, y_test_mean)"
   ]
  },
  {
   "cell_type": "code",
   "execution_count": 25,
   "id": "8b18044a",
   "metadata": {},
   "outputs": [
    {
     "data": {
      "text/plain": [
       "1.0"
      ]
     },
     "execution_count": 25,
     "metadata": {},
     "output_type": "execute_result"
    }
   ],
   "source": [
    "r2_score(y_test, y_test)"
   ]
  },
  {
   "cell_type": "markdown",
   "id": "a728b7d7",
   "metadata": {},
   "source": [
    "###  Mean absolute error (MAE)"
   ]
  },
  {
   "cell_type": "code",
   "execution_count": 26,
   "id": "d289b5b3",
   "metadata": {},
   "outputs": [
    {
     "data": {
      "text/plain": [
       "53.66265477743047"
      ]
     },
     "execution_count": 26,
     "metadata": {},
     "output_type": "execute_result"
    }
   ],
   "source": [
    "# mean absolute error\n",
    "from sklearn.metrics import mean_absolute_error\n",
    "\n",
    "y_preds = model.predict(X_test)\n",
    "mae = mean_absolute_error(y_test, y_preds)\n",
    "mae"
   ]
  },
  {
   "cell_type": "code",
   "execution_count": 27,
   "id": "0477518d",
   "metadata": {},
   "outputs": [],
   "source": [
    "df = pd.DataFrame(data={\"actual values\": y_test, \"predicted values\": y_preds})"
   ]
  },
  {
   "cell_type": "code",
   "execution_count": 28,
   "id": "35e0a87d",
   "metadata": {},
   "outputs": [],
   "source": [
    "df[\"differences\"] = df[\"predicted values\"] - df[\"actual values\"]"
   ]
  },
  {
   "cell_type": "markdown",
   "id": "6cba90f1",
   "metadata": {},
   "source": [
    "## Comparing Actual Values and Predicted Values"
   ]
  },
  {
   "cell_type": "code",
   "execution_count": 29,
   "id": "c3977dbc",
   "metadata": {
    "scrolled": true
   },
   "outputs": [
    {
     "data": {
      "text/html": [
       "<div>\n",
       "<style scoped>\n",
       "    .dataframe tbody tr th:only-of-type {\n",
       "        vertical-align: middle;\n",
       "    }\n",
       "\n",
       "    .dataframe tbody tr th {\n",
       "        vertical-align: top;\n",
       "    }\n",
       "\n",
       "    .dataframe thead th {\n",
       "        text-align: right;\n",
       "    }\n",
       "</style>\n",
       "<table border=\"1\" class=\"dataframe\">\n",
       "  <thead>\n",
       "    <tr style=\"text-align: right;\">\n",
       "      <th></th>\n",
       "      <th>actual values</th>\n",
       "      <th>predicted values</th>\n",
       "      <th>differences</th>\n",
       "    </tr>\n",
       "  </thead>\n",
       "  <tbody>\n",
       "    <tr>\n",
       "      <th>14125</th>\n",
       "      <td>92.823236</td>\n",
       "      <td>125.142172</td>\n",
       "      <td>32.318936</td>\n",
       "    </tr>\n",
       "    <tr>\n",
       "      <th>36825</th>\n",
       "      <td>152.432609</td>\n",
       "      <td>121.459823</td>\n",
       "      <td>-30.972787</td>\n",
       "    </tr>\n",
       "    <tr>\n",
       "      <th>6890</th>\n",
       "      <td>197.080121</td>\n",
       "      <td>235.760317</td>\n",
       "      <td>38.680196</td>\n",
       "    </tr>\n",
       "    <tr>\n",
       "      <th>24859</th>\n",
       "      <td>279.149967</td>\n",
       "      <td>279.163580</td>\n",
       "      <td>0.013613</td>\n",
       "    </tr>\n",
       "    <tr>\n",
       "      <th>1808</th>\n",
       "      <td>854.170084</td>\n",
       "      <td>628.999221</td>\n",
       "      <td>-225.170863</td>\n",
       "    </tr>\n",
       "    <tr>\n",
       "      <th>...</th>\n",
       "      <td>...</td>\n",
       "      <td>...</td>\n",
       "      <td>...</td>\n",
       "    </tr>\n",
       "    <tr>\n",
       "      <th>34823</th>\n",
       "      <td>161.550511</td>\n",
       "      <td>155.521006</td>\n",
       "      <td>-6.029505</td>\n",
       "    </tr>\n",
       "    <tr>\n",
       "      <th>37644</th>\n",
       "      <td>225.375821</td>\n",
       "      <td>261.881490</td>\n",
       "      <td>36.505668</td>\n",
       "    </tr>\n",
       "    <tr>\n",
       "      <th>31990</th>\n",
       "      <td>201.762794</td>\n",
       "      <td>202.978514</td>\n",
       "      <td>1.215720</td>\n",
       "    </tr>\n",
       "    <tr>\n",
       "      <th>36234</th>\n",
       "      <td>331.517546</td>\n",
       "      <td>320.526269</td>\n",
       "      <td>-10.991277</td>\n",
       "    </tr>\n",
       "    <tr>\n",
       "      <th>14446</th>\n",
       "      <td>148.517178</td>\n",
       "      <td>175.527565</td>\n",
       "      <td>27.010387</td>\n",
       "    </tr>\n",
       "  </tbody>\n",
       "</table>\n",
       "<p>8343 rows × 3 columns</p>\n",
       "</div>"
      ],
      "text/plain": [
       "       actual values  predicted values  differences\n",
       "14125      92.823236        125.142172    32.318936\n",
       "36825     152.432609        121.459823   -30.972787\n",
       "6890      197.080121        235.760317    38.680196\n",
       "24859     279.149967        279.163580     0.013613\n",
       "1808      854.170084        628.999221  -225.170863\n",
       "...              ...               ...          ...\n",
       "34823     161.550511        155.521006    -6.029505\n",
       "37644     225.375821        261.881490    36.505668\n",
       "31990     201.762794        202.978514     1.215720\n",
       "36234     331.517546        320.526269   -10.991277\n",
       "14446     148.517178        175.527565    27.010387\n",
       "\n",
       "[8343 rows x 3 columns]"
      ]
     },
     "execution_count": 29,
     "metadata": {},
     "output_type": "execute_result"
    }
   ],
   "source": [
    "df"
   ]
  },
  {
   "cell_type": "markdown",
   "id": "7be06a8f",
   "metadata": {},
   "source": [
    "### Mean squared error (MSE)"
   ]
  },
  {
   "cell_type": "code",
   "execution_count": 30,
   "id": "71af1110",
   "metadata": {},
   "outputs": [
    {
     "data": {
      "text/plain": [
       "60988.22417432958"
      ]
     },
     "execution_count": 30,
     "metadata": {},
     "output_type": "execute_result"
    }
   ],
   "source": [
    "# Mean squared error\n",
    "from sklearn.metrics import mean_squared_error\n",
    "y_preds = model.predict(X_test)\n",
    "mse = mean_squared_error(y_test, y_preds)\n",
    "mse"
   ]
  },
  {
   "cell_type": "code",
   "execution_count": 31,
   "id": "56189d34",
   "metadata": {},
   "outputs": [
    {
     "data": {
      "text/plain": [
       "60988.22417432954"
      ]
     },
     "execution_count": 31,
     "metadata": {},
     "output_type": "execute_result"
    }
   ],
   "source": [
    "# calculate the MSE by hand\n",
    "squared = np.square(df[\"differences\"])\n",
    "squared.mean()"
   ]
  },
  {
   "cell_type": "markdown",
   "id": "6b3ae9bb",
   "metadata": {},
   "source": [
    "\n"
   ]
  },
  {
   "cell_type": "markdown",
   "id": "449aa58c",
   "metadata": {},
   "source": [
    "##### Import the LinearRegression model from scikit-learn"
   ]
  },
  {
   "cell_type": "code",
   "execution_count": 32,
   "id": "a855a033",
   "metadata": {},
   "outputs": [],
   "source": [
    "from sklearn.linear_model import LinearRegression"
   ]
  },
  {
   "cell_type": "markdown",
   "id": "cb51f23d",
   "metadata": {},
   "source": [
    "#### Create an instance of the LinearRegression model and Fit the model to the training data"
   ]
  },
  {
   "cell_type": "code",
   "execution_count": 33,
   "id": "684364d2",
   "metadata": {},
   "outputs": [
    {
     "data": {
      "text/plain": [
       "LinearRegression()"
      ]
     },
     "execution_count": 33,
     "metadata": {},
     "output_type": "execute_result"
    }
   ],
   "source": [
    "linear_model = LinearRegression()\n",
    "linear_model.fit(X_train, y_train)"
   ]
  },
  {
   "cell_type": "markdown",
   "id": "0ff769c4",
   "metadata": {},
   "source": [
    "##### Create an instance of the RandomForest model and  Fit the model to the training data"
   ]
  },
  {
   "cell_type": "code",
   "execution_count": 34,
   "id": "8e987862",
   "metadata": {},
   "outputs": [
    {
     "data": {
      "text/plain": [
       "RandomForestRegressor()"
      ]
     },
     "execution_count": 34,
     "metadata": {},
     "output_type": "execute_result"
    }
   ],
   "source": [
    "rf_model = RandomForestRegressor()\n",
    "rf_model.fit(X_train, y_train)"
   ]
  },
  {
   "cell_type": "markdown",
   "id": "88f80d38",
   "metadata": {},
   "source": [
    "##### Create an instance of the DecisionTreeRegressor model and  Fit the model to the training data"
   ]
  },
  {
   "cell_type": "code",
   "execution_count": 35,
   "id": "8afefdc6",
   "metadata": {},
   "outputs": [],
   "source": [
    "from sklearn.tree import DecisionTreeRegressor"
   ]
  },
  {
   "cell_type": "code",
   "execution_count": 36,
   "id": "faa05402",
   "metadata": {},
   "outputs": [
    {
     "data": {
      "text/plain": [
       "DecisionTreeRegressor()"
      ]
     },
     "execution_count": 36,
     "metadata": {},
     "output_type": "execute_result"
    }
   ],
   "source": [
    "dt_model = DecisionTreeRegressor()\n",
    "dt_model.fit(X_train, y_train)"
   ]
  },
  {
   "cell_type": "code",
   "execution_count": null,
   "id": "a740970c",
   "metadata": {},
   "outputs": [],
   "source": [
    "# Make predictions using the trained Linear Regression model on the test data\n",
    "linear_predictions = linear_model.predict(X_test)\n",
    "\n",
    "# Make predictions using the trained RandomForestRegressor model on the test data\n",
    "rf_predictions = rf_model.predict(X_test)\n",
    "\n",
    "# Make predictions using the trained DecisionTreeRegressor model on the test data\n",
    "dt_predictions = dt_model.predict(X_test)"
   ]
  },
  {
   "cell_type": "markdown",
   "id": "0047a573",
   "metadata": {},
   "source": [
    "### Calculating evaluation metrics for each model\n",
    "###### 1. LinearRegression metrics"
   ]
  },
  {
   "cell_type": "markdown",
   "id": "e35e29f0",
   "metadata": {},
   "source": [
    "linear_mse = mean_squared_error(y_test, linear_predictions)\n",
    "linear_mae = mean_absolute_error(y_test, linear_predictions)\n",
    "linear_r2 = r2_score(y_test, linear_predictions)"
   ]
  },
  {
   "cell_type": "markdown",
   "id": "5c8d50e0",
   "metadata": {},
   "source": [
    "###### 2. RandomForestRegression metrics"
   ]
  },
  {
   "cell_type": "code",
   "execution_count": 39,
   "id": "c710fca7",
   "metadata": {},
   "outputs": [],
   "source": [
    "rf_mse = mean_squared_error(y_test, rf_predictions)\n",
    "rf_mae = mean_absolute_error(y_test, rf_predictions)\n",
    "rf_r2 = r2_score(y_test, rf_predictions)"
   ]
  },
  {
   "cell_type": "markdown",
   "id": "85121e2a",
   "metadata": {},
   "source": [
    "###### 3. DecisionTreeRegression metrics"
   ]
  },
  {
   "cell_type": "code",
   "execution_count": 40,
   "id": "593c936a",
   "metadata": {},
   "outputs": [],
   "source": [
    "dt_mse = mean_squared_error(y_test, dt_predictions)\n",
    "dt_mae = mean_absolute_error(y_test, dt_predictions)\n",
    "dt_r2 = r2_score(y_test, dt_predictions)"
   ]
  },
  {
   "cell_type": "code",
   "execution_count": 41,
   "id": "0bbd86aa",
   "metadata": {},
   "outputs": [
    {
     "name": "stdout",
     "output_type": "stream",
     "text": [
      "Linear Regression:\n",
      "MSE: 79855.91231628576\n",
      "MAE: 84.96211985033631\n",
      "R2: 0.20686964046555123\n",
      "\n",
      "Random Forest:\n",
      "MSE: 61528.62000989021\n",
      "MAE: 53.25396882134629\n",
      "R2: 0.38889663777405226\n",
      "\n",
      "Decision Tree:\n",
      "MSE: 89604.01852593718\n",
      "MAE: 55.714912350156794\n",
      "R2: 0.11005127400298353\n"
     ]
    }
   ],
   "source": [
    "print(\"Linear Regression:\")\n",
    "print(f\"MSE: {linear_mse}\")\n",
    "print(f\"MAE: {linear_mae}\")\n",
    "print(f\"R2: {linear_r2}\")\n",
    "print(\"\\nRandom Forest:\")\n",
    "print(f\"MSE: {rf_mse}\")\n",
    "print(f\"MAE: {rf_mae}\")\n",
    "print(f\"R2: {rf_r2}\")\n",
    "print(\"\\nDecision Tree:\")\n",
    "print(f\"MSE: {dt_mse}\")\n",
    "print(f\"MAE: {dt_mae}\")\n",
    "print(f\"R2: {dt_r2}\")"
   ]
  },
  {
   "cell_type": "markdown",
   "id": "824d479c",
   "metadata": {},
   "source": [
    "## DATA VISUALIZATION"
   ]
  },
  {
   "cell_type": "markdown",
   "id": "8046a042",
   "metadata": {},
   "source": [
    "##### 1.) LINEAR REGRESSION GRAPH"
   ]
  },
  {
   "cell_type": "code",
   "execution_count": 42,
   "id": "eeb20908",
   "metadata": {},
   "outputs": [
    {
     "data": {
      "text/plain": [
       "<matplotlib.collections.PathCollection at 0x1ff86b32580>"
      ]
     },
     "execution_count": 42,
     "metadata": {},
     "output_type": "execute_result"
    },
    {
     "data": {
      "image/png": "[encoded data removed]",
      "text/plain": [
       "<Figure size 640x480 with 1 Axes>"
      ]
     },
     "metadata": {},
     "output_type": "display_data"
    }
   ],
   "source": [
    "plt.scatter(y_test, linear_predictions)"
   ]
  },
  {
   "cell_type": "markdown",
   "id": "a6e6ce95",
   "metadata": {},
   "source": [
    "###### 2. Random Forest Regression Graph"
   ]
  },
  {
   "cell_type": "code",
   "execution_count": 43,
   "id": "7496d173",
   "metadata": {},
   "outputs": [
    {
     "data": {
      "text/plain": [
       "<matplotlib.collections.PathCollection at 0x1ff86b95490>"
      ]
     },
     "execution_count": 43,
     "metadata": {},
     "output_type": "execute_result"
    },
    {
     "data": {
      "image/png": "[encoded data removed]",
      "text/plain": [
       "<Figure size 640x480 with 1 Axes>"
      ]
     },
     "metadata": {},
     "output_type": "display_data"
    }
   ],
   "source": [
    "plt.scatter(y_test, rf_predictions)"
   ]
  },
  {
   "cell_type": "markdown",
   "id": "8c6dea0d",
   "metadata": {},
   "source": [
    "###### 3. Decision Tree Regression"
   ]
  },
  {
   "cell_type": "code",
   "execution_count": 44,
   "id": "27b3d42a",
   "metadata": {},
   "outputs": [
    {
     "data": {
      "text/plain": [
       "<matplotlib.collections.PathCollection at 0x1ff86c043d0>"
      ]
     },
     "execution_count": 44,
     "metadata": {},
     "output_type": "execute_result"
    },
    {
     "data": {
      "image/png": "[encoded data removed]",
      "text/plain": [
       "<Figure size 640x480 with 1 Axes>"
      ]
     },
     "metadata": {},
     "output_type": "display_data"
    }
   ],
   "source": [
    "plt.scatter(y_test, dt_predictions)"
   ]
  },
  {
   "cell_type": "markdown",
   "id": "7a1489a6",
   "metadata": {},
   "source": [
    "### Conclusion:\n",
    "##### The near to accurate model is the RandomForest Regression Model"
   ]
  }
 ],
 "metadata": {
  "kernelspec": {
   "display_name": "Python 3 (ipykernel)",
   "language": "python",
   "name": "python3"
  },
  "language_info": {
   "codemirror_mode": {
    "name": "ipython",
    "version": 3
   },
   "file_extension": ".py",
   "mimetype": "text/x-python",
   "name": "python",
   "nbconvert_exporter": "python",
   "pygments_lexer": "ipython3",
   "version": "3.9.13"
  }
 },
 "nbformat": 4,
 "nbformat_minor": 5
}
